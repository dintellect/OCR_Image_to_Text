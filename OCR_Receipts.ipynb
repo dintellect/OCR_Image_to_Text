{
 "cells": [
  {
   "cell_type": "markdown",
   "metadata": {},
   "source": [
    "### Install Packages"
   ]
  },
  {
   "cell_type": "code",
   "execution_count": null,
   "metadata": {},
   "outputs": [],
   "source": [
    "!pip install tesseract\n",
    "!pip install tesseract-ocr"
   ]
  },
  {
   "cell_type": "markdown",
   "metadata": {},
   "source": [
    "### Download Tesseract .exe file from below link"
   ]
  },
  {
   "cell_type": "code",
   "execution_count": null,
   "metadata": {},
   "outputs": [],
   "source": [
    "https://github.com/UB-Mannheim/tesseract/wiki"
   ]
  },
  {
   "cell_type": "markdown",
   "metadata": {},
   "source": [
    "### Set the path of tesseract file"
   ]
  },
  {
   "cell_type": "code",
   "execution_count": 27,
   "metadata": {},
   "outputs": [],
   "source": [
    "pytesseract.pytesseract.tesseract_cmd = 'C:\\\\Program Files\\\\Tesseract-OCR\\\\tesseract.exe'"
   ]
  },
  {
   "cell_type": "markdown",
   "metadata": {},
   "source": [
    "### Import "
   ]
  },
  {
   "cell_type": "code",
   "execution_count": 28,
   "metadata": {},
   "outputs": [],
   "source": [
    "import sys\n",
    "import numpy as np\n",
    "from cv2 import *\n",
    "import time\n",
    "import os\n",
    "import threading\n",
    "import pytesseract\n",
    "import imutils"
   ]
  },
  {
   "cell_type": "markdown",
   "metadata": {},
   "source": [
    "### Function Definition for Image Preprocessing and Text Recognition from Image"
   ]
  },
  {
   "cell_type": "code",
   "execution_count": 29,
   "metadata": {},
   "outputs": [],
   "source": [
    "def get_string(img_path):\n",
    "    # Read image using opencv\n",
    "    img = cv2.imread(img_path)\n",
    "   # Extract the file name without the file extension\n",
    "    file_name = os.path.basename(img_path).split('.')[0]\n",
    "    file_name = file_name.split()[0]\n",
    "    # Create a directory for outputs\n",
    "    output_path = os.path.join('output_path', \"ocr\")\n",
    "    if not os.path.exists(output_path):\n",
    "        os.makedirs(output_path)\n",
    "    # Rescale the image, if needed.\n",
    "    img = cv2.resize(img, None, fx=1.5, fy=1.5, interpolation=cv2.INTER_CUBIC)\n",
    "    # Converting to gray scale\n",
    "    img = cv2.cvtColor(img, cv2.COLOR_BGR2GRAY)\n",
    "    #Removing Shadows\n",
    "    rgb_planes = cv2.split(img)\n",
    "    result_planes = []\n",
    "    result_norm_planes = []\n",
    "    for plane in rgb_planes:\n",
    "        dilated_img = cv2.dilate(plane, np.ones((7,7), np.uint8))\n",
    "        bg_img = cv2.medianBlur(dilated_img, 21)\n",
    "        diff_img = 255 - cv2.absdiff(plane, bg_img)\n",
    "        result_planes.append(diff_img)\n",
    "    img = cv2.merge(result_planes)\n",
    "    \n",
    "    #Apply dilation and erosion to remove some noise\n",
    "    kernel = np.ones((1, 1), np.uint8)\n",
    "    img = cv2.dilate(img, kernel, iterations=1)#increases the white region in the image \n",
    "    img = cv2.erode(img, kernel, iterations=1) #erodes away the boundaries of foreground object\n",
    "    \n",
    "    #Apply blur to smooth out the edges\n",
    "    #img = cv2.GaussianBlur(img, (5, 5), 0)\n",
    "    \n",
    "    # Apply threshold to get image with only b&w (binarization)\n",
    "    img = cv2.threshold(img, 0, 255, cv2.THRESH_BINARY + cv2.THRESH_OTSU)[1]\n",
    "    \n",
    "    #Save the filtered image in the output directory\n",
    "    save_path = os.path.join(output_path, file_name + \"_filter_\" + str('as') + \".png\")\n",
    "    cv2.imwrite(save_path, img)\n",
    "    # Recognize text with tesseract for python\n",
    "    result = pytesseract.image_to_string(img, lang=\"eng\")\n",
    "    return result"
   ]
  },
  {
   "cell_type": "code",
   "execution_count": 34,
   "metadata": {},
   "outputs": [],
   "source": [
    "s = get_string(\"..\\\\bill.jfif\")"
   ]
  },
  {
   "cell_type": "code",
   "execution_count": 31,
   "metadata": {},
   "outputs": [],
   "source": [
    "t = s.split(sep='\\n')"
   ]
  },
  {
   "cell_type": "markdown",
   "metadata": {},
   "source": [
    "### Final Output"
   ]
  },
  {
   "cell_type": "code",
   "execution_count": 32,
   "metadata": {},
   "outputs": [
    {
     "name": "stdout",
     "output_type": "stream",
     "text": [
      "SRI KRISHNA\n",
      "Veg Restaurant\n",
      "New Muncipa] Bldg\n",
      "Joban-Putra Compound\n",
      "Nana Chowk , Mumba i 400007\n",
      "Ph: 23867544, 23827326\n",
      "Torts eee e ne TAX INVOICE --------.-._-\n",
      "\n",
      "Date: 01/07/17 BEIT Np. 1/3\n",
      "PBoy: COUNTER\n",
      "\n",
      "Particulars Qty Rate Amount\n",
      "\n",
      "MEDU WADA 1 6 _ 65\n",
      "\n",
      "Sub Total : 65.00\n",
      "\n",
      "Dis: 810% : 6.00\n",
      "\n",
      "Net Total : 59.00\n",
      "\n",
      "CGST @9X : 5.31\n",
      "\n",
      "SGST @9% : 5.31\n",
      "\n",
      "/1 Grand Total : 70\n",
      "\n",
      "GST NO 27AADFHS037M176 (06:56 AM)\n",
      "£.80.6,\n",
      "\n",
      "Thank You Visit Again\n",
      "\n",
      "Take Away\n"
     ]
    }
   ],
   "source": [
    "for s in t:\n",
    "    print(s)"
   ]
  },
  {
   "cell_type": "code",
   "execution_count": null,
   "metadata": {},
   "outputs": [],
   "source": []
  }
 ],
 "metadata": {
  "kernelspec": {
   "display_name": "Python 3",
   "language": "python",
   "name": "python3"
  },
  "language_info": {
   "codemirror_mode": {
    "name": "ipython",
    "version": 3
   },
   "file_extension": ".py",
   "mimetype": "text/x-python",
   "name": "python",
   "nbconvert_exporter": "python",
   "pygments_lexer": "ipython3",
   "version": "3.7.4"
  }
 },
 "nbformat": 4,
 "nbformat_minor": 2
}
